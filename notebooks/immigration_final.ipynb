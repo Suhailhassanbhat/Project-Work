{
 "cells": [
  {
   "cell_type": "markdown",
   "metadata": {},
   "source": [
    "# Merging coordinates of the U.S. states with immigration data from American Community Survey for mapping in QGIS"
   ]
  },
  {
   "cell_type": "code",
   "execution_count": 96,
   "metadata": {},
   "outputs": [],
   "source": [
    "import pandas as pd\n",
    "import re"
   ]
  },
  {
   "cell_type": "code",
   "execution_count": 121,
   "metadata": {},
   "outputs": [],
   "source": [
    "df = pd.read_csv('immigrants_ACS.csv')"
   ]
  },
  {
   "cell_type": "code",
   "execution_count": 120,
   "metadata": {},
   "outputs": [
    {
     "data": {
      "text/html": [
       "<div>\n",
       "<style scoped>\n",
       "    .dataframe tbody tr th:only-of-type {\n",
       "        vertical-align: middle;\n",
       "    }\n",
       "\n",
       "    .dataframe tbody tr th {\n",
       "        vertical-align: top;\n",
       "    }\n",
       "\n",
       "    .dataframe thead th {\n",
       "        text-align: right;\n",
       "    }\n",
       "</style>\n",
       "<table border=\"1\" class=\"dataframe\">\n",
       "  <thead>\n",
       "    <tr style=\"text-align: right;\">\n",
       "      <th></th>\n",
       "      <th>State</th>\n",
       "      <th>latitude</th>\n",
       "      <th>longitude</th>\n",
       "    </tr>\n",
       "  </thead>\n",
       "  <tbody>\n",
       "    <tr>\n",
       "      <th>0</th>\n",
       "      <td>Alabama</td>\n",
       "      <td>32.601011</td>\n",
       "      <td>-86.680736</td>\n",
       "    </tr>\n",
       "    <tr>\n",
       "      <th>1</th>\n",
       "      <td>Alaska</td>\n",
       "      <td>61.302501</td>\n",
       "      <td>-158.775020</td>\n",
       "    </tr>\n",
       "    <tr>\n",
       "      <th>2</th>\n",
       "      <td>Arizona</td>\n",
       "      <td>34.168219</td>\n",
       "      <td>-111.930907</td>\n",
       "    </tr>\n",
       "    <tr>\n",
       "      <th>3</th>\n",
       "      <td>Arkansas</td>\n",
       "      <td>34.751928</td>\n",
       "      <td>-92.131378</td>\n",
       "    </tr>\n",
       "    <tr>\n",
       "      <th>4</th>\n",
       "      <td>California</td>\n",
       "      <td>37.271875</td>\n",
       "      <td>-119.270415</td>\n",
       "    </tr>\n",
       "  </tbody>\n",
       "</table>\n",
       "</div>"
      ],
      "text/plain": [
       "        State   latitude   longitude\n",
       "0     Alabama  32.601011  -86.680736\n",
       "1      Alaska  61.302501 -158.775020\n",
       "2     Arizona  34.168219 -111.930907\n",
       "3    Arkansas  34.751928  -92.131378\n",
       "4  California  37.271875 -119.270415"
      ]
     },
     "execution_count": 120,
     "metadata": {},
     "output_type": "execute_result"
    }
   ],
   "source": [
    "df1= pd.read_csv('cooridnates2.csv')\n",
    "df1.head()"
   ]
  },
  {
   "cell_type": "code",
   "execution_count": 123,
   "metadata": {},
   "outputs": [
    {
     "data": {
      "text/html": [
       "<div>\n",
       "<style scoped>\n",
       "    .dataframe tbody tr th:only-of-type {\n",
       "        vertical-align: middle;\n",
       "    }\n",
       "\n",
       "    .dataframe tbody tr th {\n",
       "        vertical-align: top;\n",
       "    }\n",
       "\n",
       "    .dataframe thead th {\n",
       "        text-align: right;\n",
       "    }\n",
       "</style>\n",
       "<table border=\"1\" class=\"dataframe\">\n",
       "  <thead>\n",
       "    <tr style=\"text-align: right;\">\n",
       "      <th></th>\n",
       "      <th>State</th>\n",
       "      <th>immigrants_pct</th>\n",
       "      <th>immigrants</th>\n",
       "      <th>Native Population</th>\n",
       "      <th>Foreign-Born Population w/ Citizenship</th>\n",
       "      <th>Most Common Country of Origin</th>\n",
       "      <th>latitude</th>\n",
       "      <th>longitude</th>\n",
       "    </tr>\n",
       "  </thead>\n",
       "  <tbody>\n",
       "    <tr>\n",
       "      <th>0</th>\n",
       "      <td>California</td>\n",
       "      <td>27.00%</td>\n",
       "      <td>10437630.0</td>\n",
       "      <td>28,216,576</td>\n",
       "      <td>49.20%</td>\n",
       "      <td>Mexico</td>\n",
       "      <td>37.271875</td>\n",
       "      <td>-119.270415</td>\n",
       "    </tr>\n",
       "    <tr>\n",
       "      <th>1</th>\n",
       "      <td>New York</td>\n",
       "      <td>22.60%</td>\n",
       "      <td>4442247.0</td>\n",
       "      <td>15,255,210</td>\n",
       "      <td>54.50%</td>\n",
       "      <td>Dominican Rep.</td>\n",
       "      <td>40.705626</td>\n",
       "      <td>-73.979680</td>\n",
       "    </tr>\n",
       "    <tr>\n",
       "      <th>2</th>\n",
       "      <td>New Jersey</td>\n",
       "      <td>21.80%</td>\n",
       "      <td>1943338.0</td>\n",
       "      <td>6,972,118</td>\n",
       "      <td>53.90%</td>\n",
       "      <td>India</td>\n",
       "      <td>40.143006</td>\n",
       "      <td>-74.731116</td>\n",
       "    </tr>\n",
       "    <tr>\n",
       "      <th>3</th>\n",
       "      <td>Florida</td>\n",
       "      <td>19.90%</td>\n",
       "      <td>3967671.0</td>\n",
       "      <td>15,966,780</td>\n",
       "      <td>53.80%</td>\n",
       "      <td>Cuba</td>\n",
       "      <td>27.975728</td>\n",
       "      <td>-83.833017</td>\n",
       "    </tr>\n",
       "    <tr>\n",
       "      <th>4</th>\n",
       "      <td>Nevada</td>\n",
       "      <td>19.30%</td>\n",
       "      <td>547696.0</td>\n",
       "      <td>2,291,476</td>\n",
       "      <td>46.70%</td>\n",
       "      <td>Mexico</td>\n",
       "      <td>38.502032</td>\n",
       "      <td>-117.023060</td>\n",
       "    </tr>\n",
       "  </tbody>\n",
       "</table>\n",
       "</div>"
      ],
      "text/plain": [
       "        State immigrants_pct  immigrants Native Population  \\\n",
       "0  California         27.00%  10437630.0        28,216,576   \n",
       "1    New York         22.60%   4442247.0        15,255,210   \n",
       "2  New Jersey         21.80%   1943338.0         6,972,118   \n",
       "3     Florida         19.90%   3967671.0        15,966,780   \n",
       "4      Nevada         19.30%    547696.0         2,291,476   \n",
       "\n",
       "  Foreign-Born Population w/ Citizenship Most Common Country of Origin  \\\n",
       "0                                 49.20%                       Mexico    \n",
       "1                                 54.50%                Dominican Rep.   \n",
       "2                                 53.90%                        India    \n",
       "3                                 53.80%                         Cuba    \n",
       "4                                 46.70%                       Mexico    \n",
       "\n",
       "    latitude   longitude  \n",
       "0  37.271875 -119.270415  \n",
       "1  40.705626  -73.979680  \n",
       "2  40.143006  -74.731116  \n",
       "3  27.975728  -83.833017  \n",
       "4  38.502032 -117.023060  "
      ]
     },
     "execution_count": 123,
     "metadata": {},
     "output_type": "execute_result"
    }
   ],
   "source": [
    "merged_df = df.merge(df1, left_on='State', right_on='State')\n",
    "\n",
    "merged_df['immigrants'] = merged_df.immigrants.str.replace(\",\", \"\").astype(float)\n",
    "merged_df.head()"
   ]
  },
  {
   "cell_type": "code",
   "execution_count": 124,
   "metadata": {},
   "outputs": [],
   "source": [
    "merged_df.to_csv('merged_immigration2.csv', index=False)"
   ]
  },
  {
   "cell_type": "code",
   "execution_count": 100,
   "metadata": {},
   "outputs": [
    {
     "data": {
      "text/plain": [
       "State                                      object\n",
       "immigrants_pct                             object\n",
       "immigrants                                 object\n",
       "Native Population                          object\n",
       "Foreign-Born Population w/ Citizenship     object\n",
       "Most Common Country of Origin              object\n",
       "Latitude                                  float64\n",
       "Longitude                                 float64\n",
       "dtype: object"
      ]
     },
     "execution_count": 100,
     "metadata": {},
     "output_type": "execute_result"
    }
   ],
   "source": [
    "merged_df.dtypes"
   ]
  },
  {
   "cell_type": "code",
   "execution_count": null,
   "metadata": {},
   "outputs": [],
   "source": []
  }
 ],
 "metadata": {
  "kernelspec": {
   "display_name": "Python 3",
   "language": "python",
   "name": "python3"
  },
  "language_info": {
   "codemirror_mode": {
    "name": "ipython",
    "version": 3
   },
   "file_extension": ".py",
   "mimetype": "text/x-python",
   "name": "python",
   "nbconvert_exporter": "python",
   "pygments_lexer": "ipython3",
   "version": "3.7.3"
  }
 },
 "nbformat": 4,
 "nbformat_minor": 2
}
